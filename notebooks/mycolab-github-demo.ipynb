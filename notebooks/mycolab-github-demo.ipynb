{
  "cells": [
    {
      "cell_type": "markdown",
      "metadata": {
        "id": "view-in-github",
        "colab_type": "text"
      },
      "source": [
        "<a href=\"https://colab.research.google.com/github/vpagonis/FSF-paper/blob/main/notebooks/mycolab-github-demo.ipynb\" target=\"_parent\"><img src=\"https://colab.research.google.com/assets/colab-badge.svg\" alt=\"Open In Colab\"/></a>"
      ]
    },
    {
      "cell_type": "markdown",
      "metadata": {
        "id": "-pVhOfzLx9us"
      },
      "source": [
        "# Using Google Colab with GitHub\n",
        "\n"
      ]
    },
    {
      "cell_type": "markdown",
      "metadata": {
        "id": "wKJ4bd5rt1wy"
      },
      "source": [
        "\n",
        "[Google Colaboratory](http://colab.research.google.com) is designed to integr itHub, allowing both loading notebooks from github and saving notebooks to github."
      ]
    },
    {
      "cell_type": "code",
      "source": [
        "# Solution of ODE's for the OTOR model using solver odeint\n",
        "import numpy as np\n",
        "from scipy.integrate import odeint\n",
        "import matplotlib.pyplot as plt\n",
        "import warnings\n",
        "warnings.filterwarnings(\"ignore\")\n",
        "# Initial conditions.\n",
        "n0, nc0 ,m0 = 1e10, 0, 1e10\n",
        "# Initial conditions vector\n",
        "y0 = n0, nc0, m0\n",
        "# Numerical parameters for OTOR.\n",
        "N,    An,    Am,    s,   E , hr = \\\n",
        "1e10, 1e-8, 1e-8,  1e12, 1 , 1\n",
        "# A grid of time points in seconds\n",
        "t = np.linspace(0, 180, 180)\n",
        "kB=8.617e-5\n",
        "# differential equations of the OTOR model.\n",
        "def deriv(y, t):\n",
        "    n, nc, m = y\n",
        "    dndt = - n*s*np.exp(-E/(kB*(273+hr*t)))+ nc*An*(N-n)\n",
        "    dncdt =  n*s*np.exp(-E/(kB*(273+hr*t)))- nc*An*(N-n)-m*Am*nc\n",
        "    dmdt = -m*Am*nc\n",
        "    return dndt, dncdt, dmdt\n",
        "# Integrate the OTOR equations over the time grid, t.\n",
        "# Call `odeint` to generate the solution.  \n",
        "ret = odeint(deriv, y0, t)\n",
        "n, nc, m = ret.T\n",
        "# Plot the data \n",
        "plt.subplot(1,2, 1)\n",
        "plt.plot(hr*t, n, 'b',  linewidth=2, label='n(t)')\n",
        "plt.plot(hr*t,nc*1000,'r--',linewidth=2,label='nc(t) x10$^{3}$')\n",
        "leg = plt.legend()\n",
        "leg.get_frame().set_linewidth(0.0)\n",
        "plt.ylabel('Filled traps [cm$^{-3}$]')\n",
        "plt.ylim(0,1.2e10)\n",
        "plt.xlim(0,180)\n",
        "plt.title('(a)')\n",
        "plt.text(20,.6e10,'OTOR model')\n",
        "plt.text(20,.5e10,'numerical')\n",
        "plt.text(20,.4e10,'solution')\n",
        "plt.xlabel(r'Temperature T [$^{o}$C]')\n",
        "plt.subplot(1,2, 2)\n",
        "TL= n*s*np.exp(-E/(kB*(273+hr*t)))- nc*An*(N-n)\n",
        "plt.plot(hr*t,TL,linewidth=2,label='TL=-dn/dt')\n",
        "plt.ylim(0,2.2e8)\n",
        "leg = plt.legend()\n",
        "leg.get_frame().set_linewidth(0.0)\n",
        "plt.ylabel('TL signal [a.u.]')\n",
        "plt.xlabel(r'Temperature T [$^{o}$C]')\n",
        "plt.title('(b)')\n",
        "plt.tight_layout()\n",
        "plt.show()"
      ],
      "metadata": {
        "id": "wNXMuQkcfN2N"
      },
      "execution_count": null,
      "outputs": []
    },
    {
      "cell_type": "markdown",
      "metadata": {
        "id": "K-NVg7RjyeTk"
      },
      "source": [
        "## Loading Public Notebooks Directly from GitHub\n",
        "\n",
        "Colab can load public github notebooks directly, with no required authorization step.\n",
        "\n",
        "For example, consider the notebook at this address: https://github.com/googlecolab/colabtools/blob/master/notebooks/colab-github-demo.ipynb.\n",
        "\n",
        "The direct colab link to this notebook is: https://colab.research.google.com/github/googlecolab/colabtools/blob/master/notebooks/colab-github-demo.ipynb.\n",
        "\n",
        "To generate such links in one click, you can use the [Open in Colab](https://chrome.google.com/webstore/detail/open-in-colab/iogfkhleblhcpcekbiedikdehleodpjo) Chrome extension."
      ]
    },
    {
      "cell_type": "markdown",
      "metadata": {
        "id": "WzIRIt9d2huC"
      },
      "source": [
        "## Browsing GitHub Repositories from Colab\n",
        "\n",
        "Colab also supports special URLs that link directly to a GitHub browser for any user/organization, repository, or branch. For example:\n",
        "\n",
        "- http://colab.research.google.com/github will give you a general github browser, where you can search for any github organization or username.\n",
        "- http://colab.research.google.com/github/googlecolab/ will open the repository browser for the ``googlecolab`` organization. Replace ``googlecolab`` with any other github org or user to see their repositories.\n",
        "- http://colab.research.google.com/github/googlecolab/colabtools/ will let you browse the main branch of the ``colabtools`` repository within the ``googlecolab`` organization. Substitute any user/org and repository to see its contents.\n",
        "- http://colab.research.google.com/github/googlecolab/colabtools/blob/master will let you browse ``master`` branch of the ``colabtools`` repository within the ``googlecolab`` organization. (don't forget the ``blob`` here!) You can specify any valid branch for any valid repository."
      ]
    },
    {
      "cell_type": "markdown",
      "metadata": {
        "id": "Rmai0dD30XzL"
      },
      "source": [
        "## Loading Private Notebooks\n",
        "\n",
        "Loading a notebook from a private GitHub repository is possible, but requires an additional step to allow Colab to access your files.\n",
        "Do the following:\n",
        "\n",
        "1. Navigate to http://colab.research.google.com/github.\n",
        "2. Click the \"Include Private Repos\" checkbox.\n",
        "3. In the popup window, sign-in to your Github account and authorize Colab to read the private files.\n",
        "4. Your private repositories and notebooks will now be available via the github navigation pane."
      ]
    },
    {
      "cell_type": "markdown",
      "metadata": {
        "id": "8J3NBxtZpPcK"
      },
      "source": [
        "## Saving Notebooks To GitHub or Drive\n",
        "\n",
        "Any time you open a GitHub hosted notebook in Colab, it opens a new editable view of the notebook. You can run and modify the notebook without worrying about overwriting the source.\n",
        "\n",
        "If you would like to save your changes from within Colab, you can use the File menu to save the modified notebook either to Google Drive or back to GitHub. Choose **File→Save a copy in Drive** or **File→Save a copy to GitHub** and follow the resulting prompts. To save a Colab notebook to GitHub requires giving Colab permission to push the commit to your repository."
      ]
    },
    {
      "cell_type": "markdown",
      "metadata": {
        "id": "8QAWNjizy_3O"
      },
      "source": [
        "## Open In Colab Badge\n",
        "\n",
        "Anybody can open a copy of any github-hosted notebook within Colab. To make it easier to give people access to live views of GitHub-hosted notebooks,\n",
        "colab provides a [shields.io](http://shields.io/)-style badge, which appears as follows:\n",
        "\n",
        "[![Open In Colab](https://colab.research.google.com/assets/colab-badge.svg)](https://colab.research.google.com/github/googlecolab/colabtools/blob/master/notebooks/colab-github-demo.ipynb)\n",
        "\n",
        "The markdown for the above badge is the following:\n",
        "\n",
        "```markdown\n",
        "[![Open In Colab](https://colab.research.google.com/assets/colab-badge.svg)](https://colab.research.google.com/github/googlecolab/colabtools/blob/master/notebooks/colab-github-demo.ipynb)\n",
        "```\n",
        "\n",
        "The HTML equivalent is:\n",
        "\n",
        "```HTML\n",
        "<a href=\"https://colab.research.google.com/github/googlecolab/colabtools/blob/master/notebooks/colab-github-demo.ipynb\">\n",
        "  <img src=\"https://colab.research.google.com/assets/colab-badge.svg\" alt=\"Open In Colab\"/>\n",
        "</a>\n",
        "```\n",
        "\n",
        "Remember to replace the notebook URL in this template with the notebook you want to link to."
      ]
    },
    {
      "cell_type": "code",
      "execution_count": null,
      "metadata": {
        "id": "3VQqVi-3ScBC"
      },
      "outputs": [],
      "source": []
    }
  ],
  "metadata": {
    "colab": {
      "collapsed_sections": [],
      "name": "colab-github-demo.ipynb",
      "provenance": [],
      "include_colab_link": true
    },
    "kernelspec": {
      "display_name": "Python 3",
      "name": "python3"
    }
  },
  "nbformat": 4,
  "nbformat_minor": 0
}