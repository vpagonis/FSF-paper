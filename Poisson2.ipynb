{
  "nbformat": 4,
  "nbformat_minor": 0,
  "metadata": {
    "colab": {
      "provenance": [],
      "authorship_tag": "ABX9TyOugRiG5whXkOBQmd03OGB5",
      "include_colab_link": true
    },
    "kernelspec": {
      "name": "python3",
      "display_name": "Python 3"
    },
    "language_info": {
      "name": "python"
    }
  },
  "cells": [
    {
      "cell_type": "markdown",
      "metadata": {
        "id": "view-in-github",
        "colab_type": "text"
      },
      "source": [
        "<a href=\"https://colab.research.google.com/github/vpagonis/FSF-paper/blob/main/Poisson2.ipynb\" target=\"_parent\"><img src=\"https://colab.research.google.com/assets/colab-badge.svg\" alt=\"Open In Colab\"/></a>"
      ]
    },
    {
      "cell_type": "code",
      "execution_count": 3,
      "metadata": {
        "colab": {
          "base_uri": "https://localhost:8080/",
          "height": 39
        },
        "id": "DQ2xKdZZNfWP",
        "outputId": "cf42c907-f3ee-4af5-8809-d0cfd7d52744"
      },
      "outputs": [
        {
          "output_type": "execute_result",
          "data": {
            "text/plain": [
              "Eq(f(x), C1*exp(-I*k*x) + C2*exp(I*k*x))"
            ],
            "text/latex": "$\\displaystyle f{\\left(x \\right)} = C_{1} e^{- i k x} + C_{2} e^{i k x}$"
          },
          "metadata": {},
          "execution_count": 3
        }
      ],
      "source": [
        "from sympy import *\n",
        "f = Function('f')\n",
        "x ,k,V = symbols('x,k,V')\n",
        "dsolve(f(x).diff(x,2)+k**2*f(x),f(x))\n"
      ]
    },
    {
      "cell_type": "code",
      "source": [
        "from sympy import *\n",
        "x,k,V,a=symbols('x,k,V,a',positive=True,real=True)\n",
        "sol = dsolve(f(x).diff(x,2)-k**2*f(x),f(x)).rhs\n",
        "sol\n",
        "constants = solve([sol.subs(x,a)-V, sol.subs(x, -a)-V])\n",
        "constants\n",
        "#rint(constants[1])\n",
        "final_answer = sol.subs(constants[0])\n",
        "final_answer"
      ],
      "metadata": {
        "colab": {
          "base_uri": "https://localhost:8080/",
          "height": 71
        },
        "id": "56UlzG8CODnF",
        "outputId": "8df7f9bb-7ec1-4d14-8258-f27fdbee20be"
      },
      "execution_count": 36,
      "outputs": [
        {
          "output_type": "execute_result",
          "data": {
            "text/plain": [
              "-V*(exp(a*k)/cosh(a*k) - 2)*exp(a*k)*exp(-k*x)/2 + V*exp(k*x)/(2*cosh(a*k))"
            ],
            "text/latex": "$\\displaystyle - \\frac{V \\left(\\frac{e^{a k}}{\\cosh{\\left(a k \\right)}} - 2\\right) e^{a k} e^{- k x}}{2} + \\frac{V e^{k x}}{2 \\cosh{\\left(a k \\right)}}$"
          },
          "metadata": {},
          "execution_count": 36
        }
      ]
    },
    {
      "cell_type": "code",
      "source": [
        "sol = dsolve(f(x).diff(x,2)+f(x),f(x)).rhs\n",
        "constants = solve([sol.subs(x,0), sol.subs(x, math.pi/2) - 3])\n",
        "final_answer = sol.subs(constants)"
      ],
      "metadata": {
        "id": "KzigEANgRnCc"
      },
      "execution_count": null,
      "outputs": []
    },
    {
      "cell_type": "code",
      "source": [
        "sol = dsolve(f(x).diff(x,2)+f(x),f(x)).rhs\n",
        "constants = solve([sol.subs(x,0), sol.subs(x, math.pi/2) - 3])\n",
        "final_answer = sol.subs(constants)"
      ],
      "metadata": {
        "id": "7G2eRAtxRzqL"
      },
      "execution_count": null,
      "outputs": []
    }
  ]
}